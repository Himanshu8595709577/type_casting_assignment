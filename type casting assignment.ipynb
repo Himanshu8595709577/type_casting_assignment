{
 "cells": [
  {
   "cell_type": "code",
   "execution_count": 1,
   "id": "fceb1e0d-2a43-4489-8200-3a6a29ed81ca",
   "metadata": {},
   "outputs": [
    {
     "name": "stdout",
     "output_type": "stream",
     "text": [
      "22.0\n"
     ]
    },
    {
     "data": {
      "text/plain": [
       "float"
      ]
     },
     "execution_count": 1,
     "metadata": {},
     "output_type": "execute_result"
    }
   ],
   "source": [
    "#int -> float\n",
    "x = 22\n",
    "y = float(x)\n",
    "print(y)\n",
    "type(y)"
   ]
  },
  {
   "cell_type": "code",
   "execution_count": 2,
   "id": "5ba78d9b-2fc6-413c-bc5a-21e2ae768712",
   "metadata": {},
   "outputs": [
    {
     "name": "stdout",
     "output_type": "stream",
     "text": [
      "97\n"
     ]
    },
    {
     "data": {
      "text/plain": [
       "int"
      ]
     },
     "execution_count": 2,
     "metadata": {},
     "output_type": "execute_result"
    }
   ],
   "source": [
    "# float -> int\n",
    "x = 97.89\n",
    "y = int(x)\n",
    "print(y)\n",
    "type(y)"
   ]
  },
  {
   "cell_type": "code",
   "execution_count": 3,
   "id": "12db3608-4752-4d15-bbd0-ce377de95137",
   "metadata": {},
   "outputs": [
    {
     "name": "stdout",
     "output_type": "stream",
     "text": [
      "85\n"
     ]
    },
    {
     "data": {
      "text/plain": [
       "str"
      ]
     },
     "execution_count": 3,
     "metadata": {},
     "output_type": "execute_result"
    }
   ],
   "source": [
    "#int -> str\n",
    "x = 85\n",
    "y = str(x)\n",
    "print(y)\n",
    "type(y)"
   ]
  },
  {
   "cell_type": "code",
   "execution_count": 4,
   "id": "1ae119e3-9af3-4a1a-a7fa-2c96fe8f86a1",
   "metadata": {},
   "outputs": [
    {
     "name": "stdout",
     "output_type": "stream",
     "text": [
      "(1, 5, 'rahul', 'ajay')\n"
     ]
    },
    {
     "data": {
      "text/plain": [
       "tuple"
      ]
     },
     "execution_count": 4,
     "metadata": {},
     "output_type": "execute_result"
    }
   ],
   "source": [
    "#list -> tuple\n",
    "l= [1,5,\"rahul\", \"ajay\"]\n",
    "a = tuple(l)\n",
    "print (a)\n",
    "type (a)"
   ]
  },
  {
   "cell_type": "code",
   "execution_count": 5,
   "id": "51677a83-26b1-4dc8-a235-ffd84d503033",
   "metadata": {},
   "outputs": [
    {
     "name": "stdout",
     "output_type": "stream",
     "text": [
      "[1, 5, 'rahul', 'ajay']\n"
     ]
    },
    {
     "data": {
      "text/plain": [
       "list"
      ]
     },
     "execution_count": 5,
     "metadata": {},
     "output_type": "execute_result"
    }
   ],
   "source": [
    "#tuple -> list\n",
    "b = (1, 5,  'rahul', 'ajay')\n",
    "a = list (a)\n",
    "print (a)\n",
    "type (a)"
   ]
  },
  {
   "cell_type": "code",
   "execution_count": 7,
   "id": "4b71535c-acc8-4d82-92c8-75931c167fbd",
   "metadata": {},
   "outputs": [
    {
     "name": "stdout",
     "output_type": "stream",
     "text": [
      "0b1000101\n"
     ]
    },
    {
     "data": {
      "text/plain": [
       "str"
      ]
     },
     "execution_count": 7,
     "metadata": {},
     "output_type": "execute_result"
    }
   ],
   "source": [
    "#dec imal -> binary\n",
    "a = 69\n",
    "b = bin(a)\n",
    "print (b)\n",
    "type (b)"
   ]
  },
  {
   "cell_type": "code",
   "execution_count": 18,
   "id": "18a6fd6a-9aed-43df-b88e-9059c3dcc144",
   "metadata": {},
   "outputs": [
    {
     "name": "stdout",
     "output_type": "stream",
     "text": [
      "True\n"
     ]
    },
    {
     "data": {
      "text/plain": [
       "bool"
      ]
     },
     "execution_count": 18,
     "metadata": {},
     "output_type": "execute_result"
    }
   ],
   "source": [
    "#non-zero -> boolean\n",
    "a = 78.5\n",
    "b = bool(a)\n",
    "print (b)\n",
    "type (b)"
   ]
  },
  {
   "cell_type": "code",
   "execution_count": null,
   "id": "7602cb8a-b84d-4e40-9cd2-fa17263ef6a1",
   "metadata": {},
   "outputs": [],
   "source": []
  }
 ],
 "metadata": {
  "kernelspec": {
   "display_name": "Python 3 (ipykernel)",
   "language": "python",
   "name": "python3"
  },
  "language_info": {
   "codemirror_mode": {
    "name": "ipython",
    "version": 3
   },
   "file_extension": ".py",
   "mimetype": "text/x-python",
   "name": "python",
   "nbconvert_exporter": "python",
   "pygments_lexer": "ipython3",
   "version": "3.10.8"
  }
 },
 "nbformat": 4,
 "nbformat_minor": 5
}
